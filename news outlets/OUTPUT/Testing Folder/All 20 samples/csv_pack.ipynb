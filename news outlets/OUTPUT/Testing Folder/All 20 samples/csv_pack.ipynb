{
 "cells": [
  {
   "cell_type": "code",
   "execution_count": 18,
   "id": "c806f440-0813-4ee4-81b7-63bb8abb8d51",
   "metadata": {},
   "outputs": [],
   "source": [
    "import pandas as pd\n",
    "import os\n",
    "\n",
    "file_name = []\n",
    "a = os.listdir()\n",
    "for j in a:\n",
    "    if os.path.splitext(j)[1] == '.csv':\n",
    "        file_name.append(j)\n",
    "\n",
    "res = pd.DataFrame()\n",
    "for x in file_name:\n",
    "    df = pd.read_csv(x)\n",
    "    df['keywords'] = x[1:-5]\n",
    "    res = pd.concat([res, df])\n",
    "\n",
    "\n",
    "res.to_csv(\"../news_search_results_1107.csv\", index=False)"
   ]
  },
  {
   "cell_type": "code",
   "execution_count": 11,
   "id": "8c75c300-d2b2-4a97-85ca-c6a3940a5a1e",
   "metadata": {},
   "outputs": [
    {
     "name": "stdout",
     "output_type": "stream",
     "text": [
      "alta.csv    size:238\n",
      "astrazeneca.csv    size:200\n",
      "beyond meat.csv    size:250\n",
      "bitter blocker.csv    size:120\n",
      "editas.csv    size:97\n",
      "gene editing.csv    size:260\n",
      "gut microbiome.csv    size:192\n",
      "intense pulsed light.csv    size:77\n",
      "moderna.csv    size:250\n",
      "mrna vaccine.csv    size:260\n",
      "novavax.csv    size:260\n",
      "pfizer.csv    size:260\n",
      "phage encapsulation.csv    size:71\n",
      "phage therapy.csv    size:121\n",
      "plazma process.csv    size:160\n",
      "polyhydroxyalkanoate.csv    size:2\n",
      "soy pea chickpea protein.csv    size:31\n",
      "tenebrio molitor.csv    size:68\n",
      "translucent egg.csv    size:146\n",
      "vertical farm.csv    size:260\n"
     ]
    }
   ],
   "source": [
    "file_name = []\n",
    "a = os.listdir()\n",
    "for j in a:\n",
    "    if os.path.splitext(j)[1] == '.csv':\n",
    "        file_name.append(j)\n",
    "\n",
    "res = pd.DataFrame()\n",
    "\n",
    "for x in file_name:\n",
    "    df = pd.read_csv(x)\n",
    "    print(str(x) + '    size:' + str(len(df)))"
   ]
  },
  {
   "cell_type": "code",
   "execution_count": null,
   "id": "cd52f858-2792-43a2-945d-44c979b93f47",
   "metadata": {},
   "outputs": [],
   "source": []
  }
 ],
 "metadata": {
  "kernelspec": {
   "display_name": "Python 3 (ipykernel)",
   "language": "python",
   "name": "python3"
  },
  "language_info": {
   "codemirror_mode": {
    "name": "ipython",
    "version": 3
   },
   "file_extension": ".py",
   "mimetype": "text/x-python",
   "name": "python",
   "nbconvert_exporter": "python",
   "pygments_lexer": "ipython3",
   "version": "3.9.12"
  }
 },
 "nbformat": 4,
 "nbformat_minor": 5
}
